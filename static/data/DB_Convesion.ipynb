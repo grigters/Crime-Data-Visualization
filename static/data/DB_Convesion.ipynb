{
 "cells": [
  {
   "cell_type": "code",
   "execution_count": 11,
   "metadata": {},
   "outputs": [],
   "source": [
    "import pandas as pd\n",
    "from sqlalchemy import create_engine\n",
    "import pymysql\n",
    "pymysql.install_as_MySQLdb()\n",
    "import json\n",
    "import pprint\n",
    "\n",
    "from sqlalchemy.ext.declarative import declarative_base\n",
    "Base = declarative_base()\n",
    "from config import dbuser, dbpasswd, dburi, dbport, dbname"
   ]
  },
  {
   "cell_type": "markdown",
   "metadata": {
    "slideshow": {
     "slide_type": "-"
    }
   },
   "source": [
    "### Store CSV into DataFrame"
   ]
  },
  {
   "cell_type": "code",
   "execution_count": 12,
   "metadata": {},
   "outputs": [
    {
     "data": {
      "text/html": [
       "<div>\n",
       "<style scoped>\n",
       "    .dataframe tbody tr th:only-of-type {\n",
       "        vertical-align: middle;\n",
       "    }\n",
       "\n",
       "    .dataframe tbody tr th {\n",
       "        vertical-align: top;\n",
       "    }\n",
       "\n",
       "    .dataframe thead th {\n",
       "        text-align: right;\n",
       "    }\n",
       "</style>\n",
       "<table border=\"1\" class=\"dataframe\">\n",
       "  <thead>\n",
       "    <tr style=\"text-align: right;\">\n",
       "      <th></th>\n",
       "      <th>#</th>\n",
       "      <th>Report_No</th>\n",
       "      <th>Reported_Date</th>\n",
       "      <th>Reported_Time</th>\n",
       "      <th>Offense</th>\n",
       "      <th>Description</th>\n",
       "      <th>Address</th>\n",
       "      <th>City</th>\n",
       "      <th>Zip_Code</th>\n",
       "      <th>Area</th>\n",
       "      <th>...</th>\n",
       "      <th>Involvement</th>\n",
       "      <th>Race</th>\n",
       "      <th>Sex</th>\n",
       "      <th>Age</th>\n",
       "      <th>Firearm_Used_Flag</th>\n",
       "      <th>Location</th>\n",
       "      <th>Lat_Lng</th>\n",
       "      <th>Lat</th>\n",
       "      <th>Lng</th>\n",
       "      <th>18325</th>\n",
       "    </tr>\n",
       "  </thead>\n",
       "  <tbody>\n",
       "    <tr>\n",
       "      <th>0</th>\n",
       "      <td>2</td>\n",
       "      <td>180097829</td>\n",
       "      <td>12/20/2018</td>\n",
       "      <td>15:52</td>\n",
       "      <td>401</td>\n",
       "      <td>Aggravated Assault</td>\n",
       "      <td>500  BOOTH AV</td>\n",
       "      <td>KANSAS CITY</td>\n",
       "      <td>64124</td>\n",
       "      <td>EPD</td>\n",
       "      <td>...</td>\n",
       "      <td>SUS</td>\n",
       "      <td>W</td>\n",
       "      <td>M</td>\n",
       "      <td>18</td>\n",
       "      <td>N</td>\n",
       "      <td>500 BOOTH AV\\nKANSAS CITY 64124\\n(39.105511, -...</td>\n",
       "      <td>39.105511, -94.482144</td>\n",
       "      <td>39.105511</td>\n",
       "      <td>-94.482144</td>\n",
       "      <td>NaN</td>\n",
       "    </tr>\n",
       "    <tr>\n",
       "      <th>1</th>\n",
       "      <td>4</td>\n",
       "      <td>180097829</td>\n",
       "      <td>12/20/2018</td>\n",
       "      <td>15:52</td>\n",
       "      <td>401</td>\n",
       "      <td>Aggravated Assault</td>\n",
       "      <td>500  BOOTH AV</td>\n",
       "      <td>KANSAS CITY</td>\n",
       "      <td>64124</td>\n",
       "      <td>EPD</td>\n",
       "      <td>...</td>\n",
       "      <td>SUS</td>\n",
       "      <td>P</td>\n",
       "      <td>M</td>\n",
       "      <td>18</td>\n",
       "      <td>N</td>\n",
       "      <td>500 BOOTH AV\\nKANSAS CITY 64124\\n(39.105511, -...</td>\n",
       "      <td>39.105511, -94.482144</td>\n",
       "      <td>39.105511</td>\n",
       "      <td>-94.482144</td>\n",
       "      <td>NaN</td>\n",
       "    </tr>\n",
       "    <tr>\n",
       "      <th>2</th>\n",
       "      <td>9</td>\n",
       "      <td>180093115</td>\n",
       "      <td>12/3/2018</td>\n",
       "      <td>17:07</td>\n",
       "      <td>401</td>\n",
       "      <td>Aggravated Assault</td>\n",
       "      <td>4100  FLORA AV</td>\n",
       "      <td>KANSAS CITY</td>\n",
       "      <td>64110</td>\n",
       "      <td>CPD</td>\n",
       "      <td>...</td>\n",
       "      <td>SUS</td>\n",
       "      <td>W</td>\n",
       "      <td>F</td>\n",
       "      <td>18</td>\n",
       "      <td>Y</td>\n",
       "      <td>4100 FLORA AV\\nKANSAS CITY 64110\\n(39.052161, ...</td>\n",
       "      <td>39.052161, -94.566533</td>\n",
       "      <td>39.052161</td>\n",
       "      <td>-94.566533</td>\n",
       "      <td>NaN</td>\n",
       "    </tr>\n",
       "    <tr>\n",
       "      <th>3</th>\n",
       "      <td>12</td>\n",
       "      <td>180091999</td>\n",
       "      <td>11/29/2018</td>\n",
       "      <td>14:11</td>\n",
       "      <td>401</td>\n",
       "      <td>Aggravated Assault</td>\n",
       "      <td>900  E 9 ST</td>\n",
       "      <td>KANSAS CITY</td>\n",
       "      <td>64108</td>\n",
       "      <td>CPD</td>\n",
       "      <td>...</td>\n",
       "      <td>SUS</td>\n",
       "      <td>W</td>\n",
       "      <td>M</td>\n",
       "      <td>18</td>\n",
       "      <td>N</td>\n",
       "      <td>900 E 9 ST\\nKANSAS CITY 64108\\n(39.103158, -94...</td>\n",
       "      <td>39.103158, -94.57202</td>\n",
       "      <td>39.103150</td>\n",
       "      <td>-94.57202</td>\n",
       "      <td>NaN</td>\n",
       "    </tr>\n",
       "    <tr>\n",
       "      <th>4</th>\n",
       "      <td>17</td>\n",
       "      <td>180089325</td>\n",
       "      <td>11/18/2018</td>\n",
       "      <td>12:28</td>\n",
       "      <td>401</td>\n",
       "      <td>Aggravated Assault</td>\n",
       "      <td>6000  E 10 ST</td>\n",
       "      <td>KANSAS CITY</td>\n",
       "      <td>64126</td>\n",
       "      <td>EPD</td>\n",
       "      <td>...</td>\n",
       "      <td>SUS</td>\n",
       "      <td>U</td>\n",
       "      <td>M</td>\n",
       "      <td>18</td>\n",
       "      <td>Y</td>\n",
       "      <td>6000 E 10 ST\\nKANSAS CITY 64126\\n(39.100277, -...</td>\n",
       "      <td>39.100277, -94.511176</td>\n",
       "      <td>39.100277</td>\n",
       "      <td>-94.511176</td>\n",
       "      <td>NaN</td>\n",
       "    </tr>\n",
       "  </tbody>\n",
       "</table>\n",
       "<p>5 rows × 21 columns</p>\n",
       "</div>"
      ],
      "text/plain": [
       "    #  Report_No Reported_Date Reported_Time  Offense         Description  \\\n",
       "0   2  180097829    12/20/2018         15:52      401  Aggravated Assault   \n",
       "1   4  180097829    12/20/2018         15:52      401  Aggravated Assault   \n",
       "2   9  180093115     12/3/2018         17:07      401  Aggravated Assault   \n",
       "3  12  180091999    11/29/2018         14:11      401  Aggravated Assault   \n",
       "4  17  180089325    11/18/2018         12:28      401  Aggravated Assault   \n",
       "\n",
       "          Address         City  Zip_Code Area  ...   Involvement Race Sex Age  \\\n",
       "0   500  BOOTH AV  KANSAS CITY     64124  EPD  ...           SUS    W   M  18   \n",
       "1   500  BOOTH AV  KANSAS CITY     64124  EPD  ...           SUS    P   M  18   \n",
       "2  4100  FLORA AV  KANSAS CITY     64110  CPD  ...           SUS    W   F  18   \n",
       "3     900  E 9 ST  KANSAS CITY     64108  CPD  ...           SUS    W   M  18   \n",
       "4   6000  E 10 ST  KANSAS CITY     64126  EPD  ...           SUS    U   M  18   \n",
       "\n",
       "   Firearm_Used_Flag                                           Location  \\\n",
       "0                  N  500 BOOTH AV\\nKANSAS CITY 64124\\n(39.105511, -...   \n",
       "1                  N  500 BOOTH AV\\nKANSAS CITY 64124\\n(39.105511, -...   \n",
       "2                  Y  4100 FLORA AV\\nKANSAS CITY 64110\\n(39.052161, ...   \n",
       "3                  N  900 E 9 ST\\nKANSAS CITY 64108\\n(39.103158, -94...   \n",
       "4                  Y  6000 E 10 ST\\nKANSAS CITY 64126\\n(39.100277, -...   \n",
       "\n",
       "                 Lat_Lng        Lat         Lng 18325  \n",
       "0  39.105511, -94.482144  39.105511  -94.482144   NaN  \n",
       "1  39.105511, -94.482144  39.105511  -94.482144   NaN  \n",
       "2  39.052161, -94.566533  39.052161  -94.566533   NaN  \n",
       "3   39.103158, -94.57202  39.103150   -94.57202   NaN  \n",
       "4  39.100277, -94.511176  39.100277  -94.511176   NaN  \n",
       "\n",
       "[5 rows x 21 columns]"
      ]
     },
     "execution_count": 12,
     "metadata": {},
     "output_type": "execute_result"
    }
   ],
   "source": [
    "csv_file = \"KCPD_Crime_Data_2018_cleaned.csv\"\n",
    "kcmo_data_df = pd.read_csv(csv_file)\n",
    "kcmo_data_df.head()"
   ]
  },
  {
   "cell_type": "markdown",
   "metadata": {},
   "source": [
    "### Create new data with select columns"
   ]
  },
  {
   "cell_type": "code",
   "execution_count": 13,
   "metadata": {},
   "outputs": [
    {
     "data": {
      "text/html": [
       "<div>\n",
       "<style scoped>\n",
       "    .dataframe tbody tr th:only-of-type {\n",
       "        vertical-align: middle;\n",
       "    }\n",
       "\n",
       "    .dataframe tbody tr th {\n",
       "        vertical-align: top;\n",
       "    }\n",
       "\n",
       "    .dataframe thead th {\n",
       "        text-align: right;\n",
       "    }\n",
       "</style>\n",
       "<table border=\"1\" class=\"dataframe\">\n",
       "  <thead>\n",
       "    <tr style=\"text-align: right;\">\n",
       "      <th></th>\n",
       "      <th>Report_No</th>\n",
       "      <th>Reported_Date</th>\n",
       "      <th>Reported_Time</th>\n",
       "      <th>Offense</th>\n",
       "      <th>Description</th>\n",
       "      <th>Address</th>\n",
       "      <th>City</th>\n",
       "      <th>Zip_Code</th>\n",
       "      <th>Area</th>\n",
       "      <th>Invl_No</th>\n",
       "      <th>Involvement</th>\n",
       "      <th>Race</th>\n",
       "      <th>Sex</th>\n",
       "      <th>Age</th>\n",
       "      <th>Firearm_Used_Flag</th>\n",
       "      <th>Location</th>\n",
       "      <th>Lat_Lng</th>\n",
       "      <th>Lat</th>\n",
       "      <th>Lng</th>\n",
       "    </tr>\n",
       "  </thead>\n",
       "  <tbody>\n",
       "    <tr>\n",
       "      <th>0</th>\n",
       "      <td>180097829</td>\n",
       "      <td>12/20/2018</td>\n",
       "      <td>15:52</td>\n",
       "      <td>401</td>\n",
       "      <td>Aggravated Assault</td>\n",
       "      <td>500  BOOTH AV</td>\n",
       "      <td>KANSAS CITY</td>\n",
       "      <td>64124</td>\n",
       "      <td>EPD</td>\n",
       "      <td>2</td>\n",
       "      <td>SUS</td>\n",
       "      <td>W</td>\n",
       "      <td>M</td>\n",
       "      <td>18</td>\n",
       "      <td>N</td>\n",
       "      <td>500 BOOTH AV\\nKANSAS CITY 64124\\n(39.105511, -...</td>\n",
       "      <td>39.105511, -94.482144</td>\n",
       "      <td>39.105511</td>\n",
       "      <td>-94.482144</td>\n",
       "    </tr>\n",
       "    <tr>\n",
       "      <th>1</th>\n",
       "      <td>180097829</td>\n",
       "      <td>12/20/2018</td>\n",
       "      <td>15:52</td>\n",
       "      <td>401</td>\n",
       "      <td>Aggravated Assault</td>\n",
       "      <td>500  BOOTH AV</td>\n",
       "      <td>KANSAS CITY</td>\n",
       "      <td>64124</td>\n",
       "      <td>EPD</td>\n",
       "      <td>1</td>\n",
       "      <td>SUS</td>\n",
       "      <td>P</td>\n",
       "      <td>M</td>\n",
       "      <td>18</td>\n",
       "      <td>N</td>\n",
       "      <td>500 BOOTH AV\\nKANSAS CITY 64124\\n(39.105511, -...</td>\n",
       "      <td>39.105511, -94.482144</td>\n",
       "      <td>39.105511</td>\n",
       "      <td>-94.482144</td>\n",
       "    </tr>\n",
       "    <tr>\n",
       "      <th>2</th>\n",
       "      <td>180093115</td>\n",
       "      <td>12/3/2018</td>\n",
       "      <td>17:07</td>\n",
       "      <td>401</td>\n",
       "      <td>Aggravated Assault</td>\n",
       "      <td>4100  FLORA AV</td>\n",
       "      <td>KANSAS CITY</td>\n",
       "      <td>64110</td>\n",
       "      <td>CPD</td>\n",
       "      <td>1</td>\n",
       "      <td>SUS</td>\n",
       "      <td>W</td>\n",
       "      <td>F</td>\n",
       "      <td>18</td>\n",
       "      <td>Y</td>\n",
       "      <td>4100 FLORA AV\\nKANSAS CITY 64110\\n(39.052161, ...</td>\n",
       "      <td>39.052161, -94.566533</td>\n",
       "      <td>39.052161</td>\n",
       "      <td>-94.566533</td>\n",
       "    </tr>\n",
       "    <tr>\n",
       "      <th>3</th>\n",
       "      <td>180091999</td>\n",
       "      <td>11/29/2018</td>\n",
       "      <td>14:11</td>\n",
       "      <td>401</td>\n",
       "      <td>Aggravated Assault</td>\n",
       "      <td>900  E 9 ST</td>\n",
       "      <td>KANSAS CITY</td>\n",
       "      <td>64108</td>\n",
       "      <td>CPD</td>\n",
       "      <td>2</td>\n",
       "      <td>SUS</td>\n",
       "      <td>W</td>\n",
       "      <td>M</td>\n",
       "      <td>18</td>\n",
       "      <td>N</td>\n",
       "      <td>900 E 9 ST\\nKANSAS CITY 64108\\n(39.103158, -94...</td>\n",
       "      <td>39.103158, -94.57202</td>\n",
       "      <td>39.103150</td>\n",
       "      <td>-94.57202</td>\n",
       "    </tr>\n",
       "    <tr>\n",
       "      <th>4</th>\n",
       "      <td>180089325</td>\n",
       "      <td>11/18/2018</td>\n",
       "      <td>12:28</td>\n",
       "      <td>401</td>\n",
       "      <td>Aggravated Assault</td>\n",
       "      <td>6000  E 10 ST</td>\n",
       "      <td>KANSAS CITY</td>\n",
       "      <td>64126</td>\n",
       "      <td>EPD</td>\n",
       "      <td>1</td>\n",
       "      <td>SUS</td>\n",
       "      <td>U</td>\n",
       "      <td>M</td>\n",
       "      <td>18</td>\n",
       "      <td>Y</td>\n",
       "      <td>6000 E 10 ST\\nKANSAS CITY 64126\\n(39.100277, -...</td>\n",
       "      <td>39.100277, -94.511176</td>\n",
       "      <td>39.100277</td>\n",
       "      <td>-94.511176</td>\n",
       "    </tr>\n",
       "  </tbody>\n",
       "</table>\n",
       "</div>"
      ],
      "text/plain": [
       "   Report_No Reported_Date Reported_Time  Offense         Description  \\\n",
       "0  180097829    12/20/2018         15:52      401  Aggravated Assault   \n",
       "1  180097829    12/20/2018         15:52      401  Aggravated Assault   \n",
       "2  180093115     12/3/2018         17:07      401  Aggravated Assault   \n",
       "3  180091999    11/29/2018         14:11      401  Aggravated Assault   \n",
       "4  180089325    11/18/2018         12:28      401  Aggravated Assault   \n",
       "\n",
       "          Address         City  Zip_Code Area  Invl_No Involvement Race Sex  \\\n",
       "0   500  BOOTH AV  KANSAS CITY     64124  EPD        2         SUS    W   M   \n",
       "1   500  BOOTH AV  KANSAS CITY     64124  EPD        1         SUS    P   M   \n",
       "2  4100  FLORA AV  KANSAS CITY     64110  CPD        1         SUS    W   F   \n",
       "3     900  E 9 ST  KANSAS CITY     64108  CPD        2         SUS    W   M   \n",
       "4   6000  E 10 ST  KANSAS CITY     64126  EPD        1         SUS    U   M   \n",
       "\n",
       "   Age Firearm_Used_Flag                                           Location  \\\n",
       "0   18                 N  500 BOOTH AV\\nKANSAS CITY 64124\\n(39.105511, -...   \n",
       "1   18                 N  500 BOOTH AV\\nKANSAS CITY 64124\\n(39.105511, -...   \n",
       "2   18                 Y  4100 FLORA AV\\nKANSAS CITY 64110\\n(39.052161, ...   \n",
       "3   18                 N  900 E 9 ST\\nKANSAS CITY 64108\\n(39.103158, -94...   \n",
       "4   18                 Y  6000 E 10 ST\\nKANSAS CITY 64126\\n(39.100277, -...   \n",
       "\n",
       "                 Lat_Lng        Lat         Lng  \n",
       "0  39.105511, -94.482144  39.105511  -94.482144  \n",
       "1  39.105511, -94.482144  39.105511  -94.482144  \n",
       "2  39.052161, -94.566533  39.052161  -94.566533  \n",
       "3   39.103158, -94.57202  39.103150   -94.57202  \n",
       "4  39.100277, -94.511176  39.100277  -94.511176  "
      ]
     },
     "execution_count": 13,
     "metadata": {},
     "output_type": "execute_result"
    }
   ],
   "source": [
    "new_kcmo_data_df = kcmo_data_df[['Report_No', 'Reported_Date', 'Reported_Time', 'Offense', \\\n",
    "                                 'Description', 'Address', 'City', 'Zip_Code', 'Area', \\\n",
    "                                 'Invl_No', 'Involvement', 'Race', 'Sex', 'Age', \\\n",
    "                                 'Firearm_Used_Flag', 'Location', 'Lat_Lng', 'Lat', 'Lng']].copy()\n",
    "new_kcmo_data_df.head()"
   ]
  },
  {
   "cell_type": "markdown",
   "metadata": {},
   "source": [
    "### Connect to local database"
   ]
  },
  {
   "cell_type": "code",
   "execution_count": 14,
   "metadata": {},
   "outputs": [],
   "source": [
    "engine = create_engine(f\"mysql://{dbuser}:{dbpasswd}@{dburi}:{dbport}/{dbname}\")\n",
    "Base.metadata.create_all(engine)"
   ]
  },
  {
   "cell_type": "markdown",
   "metadata": {},
   "source": [
    "### Check for tables"
   ]
  },
  {
   "cell_type": "code",
   "execution_count": 15,
   "metadata": {},
   "outputs": [
    {
     "data": {
      "text/plain": [
       "[]"
      ]
     },
     "execution_count": 15,
     "metadata": {},
     "output_type": "execute_result"
    }
   ],
   "source": [
    "engine.table_names()"
   ]
  },
  {
   "cell_type": "markdown",
   "metadata": {},
   "source": [
    "### Use pandas to load csv converted DataFrame into database"
   ]
  },
  {
   "cell_type": "code",
   "execution_count": 16,
   "metadata": {},
   "outputs": [],
   "source": [
    "new_kcmo_data_df.to_sql(name='crime_data_2018', con=engine, if_exists='replace', index=True)"
   ]
  },
  {
   "cell_type": "code",
   "execution_count": 7,
   "metadata": {
    "scrolled": true
   },
   "outputs": [
    {
     "data": {
      "text/html": [
       "<div>\n",
       "<style scoped>\n",
       "    .dataframe tbody tr th:only-of-type {\n",
       "        vertical-align: middle;\n",
       "    }\n",
       "\n",
       "    .dataframe tbody tr th {\n",
       "        vertical-align: top;\n",
       "    }\n",
       "\n",
       "    .dataframe thead th {\n",
       "        text-align: right;\n",
       "    }\n",
       "</style>\n",
       "<table border=\"1\" class=\"dataframe\">\n",
       "  <thead>\n",
       "    <tr style=\"text-align: right;\">\n",
       "      <th></th>\n",
       "      <th>index</th>\n",
       "      <th>Report_No</th>\n",
       "      <th>Reported_Date</th>\n",
       "      <th>Reported_Time</th>\n",
       "      <th>Offense</th>\n",
       "      <th>Description</th>\n",
       "      <th>Address</th>\n",
       "      <th>City</th>\n",
       "      <th>Zip_Code</th>\n",
       "      <th>Area</th>\n",
       "      <th>Invl_No</th>\n",
       "      <th>Involvement</th>\n",
       "      <th>Race</th>\n",
       "      <th>Sex</th>\n",
       "      <th>Age</th>\n",
       "      <th>Firearm_Used_Flag</th>\n",
       "      <th>Location</th>\n",
       "      <th>Lat_Lng</th>\n",
       "      <th>Lat</th>\n",
       "      <th>Lng</th>\n",
       "    </tr>\n",
       "  </thead>\n",
       "  <tbody>\n",
       "    <tr>\n",
       "      <th>0</th>\n",
       "      <td>0</td>\n",
       "      <td>180097829</td>\n",
       "      <td>12/20/2018</td>\n",
       "      <td>15:52</td>\n",
       "      <td>401</td>\n",
       "      <td>Aggravated Assault</td>\n",
       "      <td>500  BOOTH AV</td>\n",
       "      <td>KANSAS CITY</td>\n",
       "      <td>64124</td>\n",
       "      <td>EPD</td>\n",
       "      <td>2</td>\n",
       "      <td>SUS</td>\n",
       "      <td>W</td>\n",
       "      <td>M</td>\n",
       "      <td>18</td>\n",
       "      <td>N</td>\n",
       "      <td>500 BOOTH AV\\nKANSAS CITY 64124\\n(39.105511, -...</td>\n",
       "      <td>39.105511, -94.482144</td>\n",
       "      <td>39.105511</td>\n",
       "      <td>-94.482144</td>\n",
       "    </tr>\n",
       "    <tr>\n",
       "      <th>1</th>\n",
       "      <td>1</td>\n",
       "      <td>180097829</td>\n",
       "      <td>12/20/2018</td>\n",
       "      <td>15:52</td>\n",
       "      <td>401</td>\n",
       "      <td>Aggravated Assault</td>\n",
       "      <td>500  BOOTH AV</td>\n",
       "      <td>KANSAS CITY</td>\n",
       "      <td>64124</td>\n",
       "      <td>EPD</td>\n",
       "      <td>1</td>\n",
       "      <td>SUS</td>\n",
       "      <td>P</td>\n",
       "      <td>M</td>\n",
       "      <td>18</td>\n",
       "      <td>N</td>\n",
       "      <td>500 BOOTH AV\\nKANSAS CITY 64124\\n(39.105511, -...</td>\n",
       "      <td>39.105511, -94.482144</td>\n",
       "      <td>39.105511</td>\n",
       "      <td>-94.482144</td>\n",
       "    </tr>\n",
       "    <tr>\n",
       "      <th>2</th>\n",
       "      <td>2</td>\n",
       "      <td>180093115</td>\n",
       "      <td>12/3/2018</td>\n",
       "      <td>17:07</td>\n",
       "      <td>401</td>\n",
       "      <td>Aggravated Assault</td>\n",
       "      <td>4100  FLORA AV</td>\n",
       "      <td>KANSAS CITY</td>\n",
       "      <td>64110</td>\n",
       "      <td>CPD</td>\n",
       "      <td>1</td>\n",
       "      <td>SUS</td>\n",
       "      <td>W</td>\n",
       "      <td>F</td>\n",
       "      <td>18</td>\n",
       "      <td>Y</td>\n",
       "      <td>4100 FLORA AV\\nKANSAS CITY 64110\\n(39.052161, ...</td>\n",
       "      <td>39.052161, -94.566533</td>\n",
       "      <td>39.052161</td>\n",
       "      <td>-94.566533</td>\n",
       "    </tr>\n",
       "    <tr>\n",
       "      <th>3</th>\n",
       "      <td>3</td>\n",
       "      <td>180091999</td>\n",
       "      <td>11/29/2018</td>\n",
       "      <td>14:11</td>\n",
       "      <td>401</td>\n",
       "      <td>Aggravated Assault</td>\n",
       "      <td>900  E 9 ST</td>\n",
       "      <td>KANSAS CITY</td>\n",
       "      <td>64108</td>\n",
       "      <td>CPD</td>\n",
       "      <td>2</td>\n",
       "      <td>SUS</td>\n",
       "      <td>W</td>\n",
       "      <td>M</td>\n",
       "      <td>18</td>\n",
       "      <td>N</td>\n",
       "      <td>900 E 9 ST\\nKANSAS CITY 64108\\n(39.103158, -94...</td>\n",
       "      <td>39.103158, -94.57202</td>\n",
       "      <td>39.103150</td>\n",
       "      <td>-94.57202</td>\n",
       "    </tr>\n",
       "    <tr>\n",
       "      <th>4</th>\n",
       "      <td>4</td>\n",
       "      <td>180089325</td>\n",
       "      <td>11/18/2018</td>\n",
       "      <td>12:28</td>\n",
       "      <td>401</td>\n",
       "      <td>Aggravated Assault</td>\n",
       "      <td>6000  E 10 ST</td>\n",
       "      <td>KANSAS CITY</td>\n",
       "      <td>64126</td>\n",
       "      <td>EPD</td>\n",
       "      <td>1</td>\n",
       "      <td>SUS</td>\n",
       "      <td>U</td>\n",
       "      <td>M</td>\n",
       "      <td>18</td>\n",
       "      <td>Y</td>\n",
       "      <td>6000 E 10 ST\\nKANSAS CITY 64126\\n(39.100277, -...</td>\n",
       "      <td>39.100277, -94.511176</td>\n",
       "      <td>39.100277</td>\n",
       "      <td>-94.511176</td>\n",
       "    </tr>\n",
       "  </tbody>\n",
       "</table>\n",
       "</div>"
      ],
      "text/plain": [
       "   index  Report_No Reported_Date Reported_Time  Offense         Description  \\\n",
       "0      0  180097829    12/20/2018         15:52      401  Aggravated Assault   \n",
       "1      1  180097829    12/20/2018         15:52      401  Aggravated Assault   \n",
       "2      2  180093115     12/3/2018         17:07      401  Aggravated Assault   \n",
       "3      3  180091999    11/29/2018         14:11      401  Aggravated Assault   \n",
       "4      4  180089325    11/18/2018         12:28      401  Aggravated Assault   \n",
       "\n",
       "          Address         City  Zip_Code Area  Invl_No Involvement Race Sex  \\\n",
       "0   500  BOOTH AV  KANSAS CITY     64124  EPD        2         SUS    W   M   \n",
       "1   500  BOOTH AV  KANSAS CITY     64124  EPD        1         SUS    P   M   \n",
       "2  4100  FLORA AV  KANSAS CITY     64110  CPD        1         SUS    W   F   \n",
       "3     900  E 9 ST  KANSAS CITY     64108  CPD        2         SUS    W   M   \n",
       "4   6000  E 10 ST  KANSAS CITY     64126  EPD        1         SUS    U   M   \n",
       "\n",
       "   Age Firearm_Used_Flag                                           Location  \\\n",
       "0   18                 N  500 BOOTH AV\\nKANSAS CITY 64124\\n(39.105511, -...   \n",
       "1   18                 N  500 BOOTH AV\\nKANSAS CITY 64124\\n(39.105511, -...   \n",
       "2   18                 Y  4100 FLORA AV\\nKANSAS CITY 64110\\n(39.052161, ...   \n",
       "3   18                 N  900 E 9 ST\\nKANSAS CITY 64108\\n(39.103158, -94...   \n",
       "4   18                 Y  6000 E 10 ST\\nKANSAS CITY 64126\\n(39.100277, -...   \n",
       "\n",
       "                 Lat_Lng        Lat         Lng  \n",
       "0  39.105511, -94.482144  39.105511  -94.482144  \n",
       "1  39.105511, -94.482144  39.105511  -94.482144  \n",
       "2  39.052161, -94.566533  39.052161  -94.566533  \n",
       "3   39.103158, -94.57202  39.103150   -94.57202  \n",
       "4  39.100277, -94.511176  39.100277  -94.511176  "
      ]
     },
     "execution_count": 7,
     "metadata": {},
     "output_type": "execute_result"
    }
   ],
   "source": [
    "pd.read_sql_query('select * from crime_data_2018', con=engine).head()"
   ]
  },
  {
   "cell_type": "markdown",
   "metadata": {},
   "source": [
    "### Confirm data and write full dataset to a file in JSON format"
   ]
  },
  {
   "cell_type": "code",
   "execution_count": 8,
   "metadata": {},
   "outputs": [],
   "source": [
    "temp_json = new_kcmo_data_df.head(3).to_json(orient='records')\n",
    "new_kcmo_data_df.to_json(orient='records', path_or_buf='kcpd_crime.json')"
   ]
  },
  {
   "cell_type": "markdown",
   "metadata": {},
   "source": [
    "### Write the temp data to confirm it worked"
   ]
  },
  {
   "cell_type": "code",
   "execution_count": 9,
   "metadata": {},
   "outputs": [
    {
     "name": "stdout",
     "output_type": "stream",
     "text": [
      "[\n",
      "    {\n",
      "        \"Address\": \"500  BOOTH AV\",\n",
      "        \"Age\": 18,\n",
      "        \"Area\": \"EPD\",\n",
      "        \"City\": \"KANSAS CITY\",\n",
      "        \"Description\": \"Aggravated Assault\",\n",
      "        \"Firearm_Used_Flag\": \"N\",\n",
      "        \"Invl_No\": 2,\n",
      "        \"Involvement\": \"SUS\",\n",
      "        \"Lat\": 39.105511,\n",
      "        \"Lat_Lng\": \"39.105511, -94.482144\",\n",
      "        \"Lng\": \"-94.482144\",\n",
      "        \"Location\": \"500 BOOTH AV\\nKANSAS CITY 64124\\n(39.105511, -94.482144)\",\n",
      "        \"Offense\": 401,\n",
      "        \"Race\": \"W\",\n",
      "        \"Report_No\": 180097829,\n",
      "        \"Reported_Date\": \"12/20/2018\",\n",
      "        \"Reported_Time\": \"15:52\",\n",
      "        \"Sex\": \"M\",\n",
      "        \"Zip_Code\": 64124\n",
      "    },\n",
      "    {\n",
      "        \"Address\": \"500  BOOTH AV\",\n",
      "        \"Age\": 18,\n",
      "        \"Area\": \"EPD\",\n",
      "        \"City\": \"KANSAS CITY\",\n",
      "        \"Description\": \"Aggravated Assault\",\n",
      "        \"Firearm_Used_Flag\": \"N\",\n",
      "        \"Invl_No\": 1,\n",
      "        \"Involvement\": \"SUS\",\n",
      "        \"Lat\": 39.105511,\n",
      "        \"Lat_Lng\": \"39.105511, -94.482144\",\n",
      "        \"Lng\": \"-94.482144\",\n",
      "        \"Location\": \"500 BOOTH AV\\nKANSAS CITY 64124\\n(39.105511, -94.482144)\",\n",
      "        \"Offense\": 401,\n",
      "        \"Race\": \"P\",\n",
      "        \"Report_No\": 180097829,\n",
      "        \"Reported_Date\": \"12/20/2018\",\n",
      "        \"Reported_Time\": \"15:52\",\n",
      "        \"Sex\": \"M\",\n",
      "        \"Zip_Code\": 64124\n",
      "    },\n",
      "    {\n",
      "        \"Address\": \"4100  FLORA AV\",\n",
      "        \"Age\": 18,\n",
      "        \"Area\": \"CPD\",\n",
      "        \"City\": \"KANSAS CITY\",\n",
      "        \"Description\": \"Aggravated Assault\",\n",
      "        \"Firearm_Used_Flag\": \"Y\",\n",
      "        \"Invl_No\": 1,\n",
      "        \"Involvement\": \"SUS\",\n",
      "        \"Lat\": 39.052161,\n",
      "        \"Lat_Lng\": \"39.052161, -94.566533\",\n",
      "        \"Lng\": \"-94.566533\",\n",
      "        \"Location\": \"4100 FLORA AV\\nKANSAS CITY 64110\\n(39.052161, -94.566533)\",\n",
      "        \"Offense\": 401,\n",
      "        \"Race\": \"W\",\n",
      "        \"Report_No\": 180093115,\n",
      "        \"Reported_Date\": \"12/3/2018\",\n",
      "        \"Reported_Time\": \"17:07\",\n",
      "        \"Sex\": \"F\",\n",
      "        \"Zip_Code\": 64110\n",
      "    }\n",
      "]\n"
     ]
    }
   ],
   "source": [
    "parsed = json.loads(temp_json)\n",
    "print(json.dumps(parsed, indent=4, sort_keys=True))\n",
    "# pprint(temp_json)\n",
    "\n"
   ]
  },
  {
   "cell_type": "markdown",
   "metadata": {},
   "source": [
    "## Create Description Summary Info"
   ]
  },
  {
   "cell_type": "code",
   "execution_count": 10,
   "metadata": {},
   "outputs": [
    {
     "data": {
      "text/plain": [
       "Index(['Report_No', 'Reported_Date', 'Reported_Time', 'Offense', 'Description',\n",
       "       'Address', 'City', 'Zip_Code', 'Area', 'Invl_No', 'Involvement', 'Race',\n",
       "       'Sex', 'Age', 'Firearm_Used_Flag', 'Location', 'Lat_Lng', 'Lat', 'Lng'],\n",
       "      dtype='object')"
      ]
     },
     "execution_count": 10,
     "metadata": {},
     "output_type": "execute_result"
    }
   ],
   "source": [
    "new_kcmo_data_df.columns"
   ]
  },
  {
   "cell_type": "code",
   "execution_count": 11,
   "metadata": {},
   "outputs": [
    {
     "data": {
      "text/plain": [
       "Description\n",
       "Aggravated Assault    1725\n",
       "Animal Cruelty           2\n",
       "Armed Robbery          317\n",
       "Arson                   33\n",
       "Attempt Suicide          6\n",
       "Name: Description, dtype: int64"
      ]
     },
     "execution_count": 11,
     "metadata": {},
     "output_type": "execute_result"
    }
   ],
   "source": [
    "# Using GroupBy in order to separate the data into fields according to \"Description\"\n",
    "grouped_desc_df = new_kcmo_data_df.groupby(['Description'])\n",
    "\n",
    "# In order to be visualized, a data function must be used...\n",
    "desc_counts = grouped_desc_df['Description'].count()\n",
    "# desc_counts.set_index('Description', inplace=True)\n",
    "desc_counts.head()\n"
   ]
  },
  {
   "cell_type": "code",
   "execution_count": 12,
   "metadata": {},
   "outputs": [
    {
     "data": {
      "text/plain": [
       "18324"
      ]
     },
     "execution_count": 12,
     "metadata": {},
     "output_type": "execute_result"
    }
   ],
   "source": [
    "total_crimes = new_kcmo_data_df['Description'].count()\n",
    "total_crimes"
   ]
  },
  {
   "cell_type": "code",
   "execution_count": 13,
   "metadata": {},
   "outputs": [
    {
     "data": {
      "text/html": [
       "<div>\n",
       "<style scoped>\n",
       "    .dataframe tbody tr th:only-of-type {\n",
       "        vertical-align: middle;\n",
       "    }\n",
       "\n",
       "    .dataframe tbody tr th {\n",
       "        vertical-align: top;\n",
       "    }\n",
       "\n",
       "    .dataframe thead th {\n",
       "        text-align: right;\n",
       "    }\n",
       "</style>\n",
       "<table border=\"1\" class=\"dataframe\">\n",
       "  <thead>\n",
       "    <tr style=\"text-align: right;\">\n",
       "      <th></th>\n",
       "      <th>Description</th>\n",
       "      <th>Count</th>\n",
       "      <th>Percent</th>\n",
       "    </tr>\n",
       "    <tr>\n",
       "      <th>Description</th>\n",
       "      <th></th>\n",
       "      <th></th>\n",
       "      <th></th>\n",
       "    </tr>\n",
       "  </thead>\n",
       "  <tbody>\n",
       "    <tr>\n",
       "      <th>Aggravated Assault</th>\n",
       "      <td>Aggravated Assault</td>\n",
       "      <td>1725</td>\n",
       "      <td>9.413883</td>\n",
       "    </tr>\n",
       "    <tr>\n",
       "      <th>Animal Cruelty</th>\n",
       "      <td>Animal Cruelty</td>\n",
       "      <td>2</td>\n",
       "      <td>0.010915</td>\n",
       "    </tr>\n",
       "    <tr>\n",
       "      <th>Armed Robbery</th>\n",
       "      <td>Armed Robbery</td>\n",
       "      <td>317</td>\n",
       "      <td>1.729972</td>\n",
       "    </tr>\n",
       "    <tr>\n",
       "      <th>Arson</th>\n",
       "      <td>Arson</td>\n",
       "      <td>33</td>\n",
       "      <td>0.180092</td>\n",
       "    </tr>\n",
       "    <tr>\n",
       "      <th>Attempt Suicide</th>\n",
       "      <td>Attempt Suicide</td>\n",
       "      <td>6</td>\n",
       "      <td>0.032744</td>\n",
       "    </tr>\n",
       "  </tbody>\n",
       "</table>\n",
       "</div>"
      ],
      "text/plain": [
       "                           Description  Count   Percent\n",
       "Description                                            \n",
       "Aggravated Assault  Aggravated Assault   1725  9.413883\n",
       "Animal Cruelty          Animal Cruelty      2  0.010915\n",
       "Armed Robbery            Armed Robbery    317  1.729972\n",
       "Arson                            Arson     33  0.180092\n",
       "Attempt Suicide        Attempt Suicide      6  0.032744"
      ]
     },
     "execution_count": 13,
     "metadata": {},
     "output_type": "execute_result"
    }
   ],
   "source": [
    "# Creating a new DataFrame using both duration, count and the calculated percent\n",
    "desc_count_df = pd.DataFrame({ \"Description\": desc_counts.index, \n",
    "                              \"Count\": desc_counts, \n",
    "                              \"Percent\": desc_counts / total_crimes * 100})\n",
    "desc_count_df.head()\n"
   ]
  },
  {
   "cell_type": "markdown",
   "metadata": {},
   "source": [
    "### Use pandas to load DataFrame into database"
   ]
  },
  {
   "cell_type": "code",
   "execution_count": 14,
   "metadata": {},
   "outputs": [
    {
     "data": {
      "text/plain": [
       "Index(['Description', 'Count', 'Percent'], dtype='object')"
      ]
     },
     "execution_count": 14,
     "metadata": {},
     "output_type": "execute_result"
    }
   ],
   "source": [
    "desc_count_df.columns"
   ]
  },
  {
   "cell_type": "code",
   "execution_count": 15,
   "metadata": {},
   "outputs": [
    {
     "data": {
      "text/html": [
       "<div>\n",
       "<style scoped>\n",
       "    .dataframe tbody tr th:only-of-type {\n",
       "        vertical-align: middle;\n",
       "    }\n",
       "\n",
       "    .dataframe tbody tr th {\n",
       "        vertical-align: top;\n",
       "    }\n",
       "\n",
       "    .dataframe thead th {\n",
       "        text-align: right;\n",
       "    }\n",
       "</style>\n",
       "<table border=\"1\" class=\"dataframe\">\n",
       "  <thead>\n",
       "    <tr style=\"text-align: right;\">\n",
       "      <th></th>\n",
       "      <th>Description</th>\n",
       "      <th>Count</th>\n",
       "      <th>Percent</th>\n",
       "    </tr>\n",
       "    <tr>\n",
       "      <th>Description</th>\n",
       "      <th></th>\n",
       "      <th></th>\n",
       "      <th></th>\n",
       "    </tr>\n",
       "  </thead>\n",
       "  <tbody>\n",
       "    <tr>\n",
       "      <th>Aggravated Assault</th>\n",
       "      <td>Aggravated Assault</td>\n",
       "      <td>1725</td>\n",
       "      <td>9.413883</td>\n",
       "    </tr>\n",
       "    <tr>\n",
       "      <th>Animal Cruelty</th>\n",
       "      <td>Animal Cruelty</td>\n",
       "      <td>2</td>\n",
       "      <td>0.010915</td>\n",
       "    </tr>\n",
       "    <tr>\n",
       "      <th>Armed Robbery</th>\n",
       "      <td>Armed Robbery</td>\n",
       "      <td>317</td>\n",
       "      <td>1.729972</td>\n",
       "    </tr>\n",
       "    <tr>\n",
       "      <th>Arson</th>\n",
       "      <td>Arson</td>\n",
       "      <td>33</td>\n",
       "      <td>0.180092</td>\n",
       "    </tr>\n",
       "    <tr>\n",
       "      <th>Attempt Suicide</th>\n",
       "      <td>Attempt Suicide</td>\n",
       "      <td>6</td>\n",
       "      <td>0.032744</td>\n",
       "    </tr>\n",
       "  </tbody>\n",
       "</table>\n",
       "</div>"
      ],
      "text/plain": [
       "                           Description  Count   Percent\n",
       "Description                                            \n",
       "Aggravated Assault  Aggravated Assault   1725  9.413883\n",
       "Animal Cruelty          Animal Cruelty      2  0.010915\n",
       "Armed Robbery            Armed Robbery    317  1.729972\n",
       "Arson                            Arson     33  0.180092\n",
       "Attempt Suicide        Attempt Suicide      6  0.032744"
      ]
     },
     "execution_count": 15,
     "metadata": {},
     "output_type": "execute_result"
    }
   ],
   "source": [
    "# Create MySQL table and write Desc_count DF to this MySQL table\n",
    "desc_count_df.to_sql(name='desc_summary', con=engine, if_exists='replace', index=False)\n",
    "desc_count_df.head()"
   ]
  },
  {
   "cell_type": "markdown",
   "metadata": {},
   "source": [
    "### Write the temp data to confirm it worked"
   ]
  },
  {
   "cell_type": "code",
   "execution_count": 16,
   "metadata": {},
   "outputs": [],
   "source": [
    "temp_desc_json = desc_count_df.head(3).to_json(orient='records')\n",
    "desc_count_df.to_json(orient='records', path_or_buf='desc_summary.json')"
   ]
  },
  {
   "cell_type": "code",
   "execution_count": 17,
   "metadata": {},
   "outputs": [
    {
     "name": "stdout",
     "output_type": "stream",
     "text": [
      "[\n",
      "    {\n",
      "        \"Count\": 1725,\n",
      "        \"Description\": \"Aggravated Assault\",\n",
      "        \"Percent\": 9.4138834316\n",
      "    },\n",
      "    {\n",
      "        \"Count\": 2,\n",
      "        \"Description\": \"Animal Cruelty\",\n",
      "        \"Percent\": 0.0109146475\n",
      "    },\n",
      "    {\n",
      "        \"Count\": 317,\n",
      "        \"Description\": \"Armed Robbery\",\n",
      "        \"Percent\": 1.7299716219\n",
      "    }\n",
      "]\n"
     ]
    }
   ],
   "source": [
    "parsed = json.loads(temp_desc_json)\n",
    "print(json.dumps(parsed, indent=4, sort_keys=True))\n"
   ]
  },
  {
   "cell_type": "markdown",
   "metadata": {},
   "source": [
    "## Create Age Summary Info"
   ]
  },
  {
   "cell_type": "code",
   "execution_count": 18,
   "metadata": {},
   "outputs": [
    {
     "data": {
      "text/plain": [
       "Sex\n",
       "F     5360\n",
       "M    12874\n",
       "U       90\n",
       "Name: Sex, dtype: int64"
      ]
     },
     "execution_count": 18,
     "metadata": {},
     "output_type": "execute_result"
    }
   ],
   "source": [
    "# Using GroupBy in order to separate the data into fields according to \"Description\"\n",
    "grouped_sex_df = new_kcmo_data_df.groupby(['Sex'])\n",
    "\n",
    "# In order to be visualized, a data function must be used...\n",
    "sex_counts = grouped_sex_df['Sex'].count()\n",
    "# desc_counts.set_index('Description', inplace=True)\n",
    "sex_counts.head()\n"
   ]
  },
  {
   "cell_type": "code",
   "execution_count": 19,
   "metadata": {},
   "outputs": [],
   "source": [
    "# NOTE:\n",
    "# total_crimes = new_kcmo_data_df['Description'].count()\n",
    "# total_crimes = 18324"
   ]
  },
  {
   "cell_type": "code",
   "execution_count": 20,
   "metadata": {},
   "outputs": [
    {
     "data": {
      "text/html": [
       "<div>\n",
       "<style scoped>\n",
       "    .dataframe tbody tr th:only-of-type {\n",
       "        vertical-align: middle;\n",
       "    }\n",
       "\n",
       "    .dataframe tbody tr th {\n",
       "        vertical-align: top;\n",
       "    }\n",
       "\n",
       "    .dataframe thead th {\n",
       "        text-align: right;\n",
       "    }\n",
       "</style>\n",
       "<table border=\"1\" class=\"dataframe\">\n",
       "  <thead>\n",
       "    <tr style=\"text-align: right;\">\n",
       "      <th></th>\n",
       "      <th>Sex</th>\n",
       "      <th>Count</th>\n",
       "      <th>Percent</th>\n",
       "    </tr>\n",
       "    <tr>\n",
       "      <th>Sex</th>\n",
       "      <th></th>\n",
       "      <th></th>\n",
       "      <th></th>\n",
       "    </tr>\n",
       "  </thead>\n",
       "  <tbody>\n",
       "    <tr>\n",
       "      <th>F</th>\n",
       "      <td>F</td>\n",
       "      <td>5360</td>\n",
       "      <td>29.251255</td>\n",
       "    </tr>\n",
       "    <tr>\n",
       "      <th>M</th>\n",
       "      <td>M</td>\n",
       "      <td>12874</td>\n",
       "      <td>70.257586</td>\n",
       "    </tr>\n",
       "    <tr>\n",
       "      <th>U</th>\n",
       "      <td>U</td>\n",
       "      <td>90</td>\n",
       "      <td>0.491159</td>\n",
       "    </tr>\n",
       "  </tbody>\n",
       "</table>\n",
       "</div>"
      ],
      "text/plain": [
       "    Sex  Count    Percent\n",
       "Sex                      \n",
       "F     F   5360  29.251255\n",
       "M     M  12874  70.257586\n",
       "U     U     90   0.491159"
      ]
     },
     "execution_count": 20,
     "metadata": {},
     "output_type": "execute_result"
    }
   ],
   "source": [
    "# Creating a new DataFrame using both duration, count and the calculated percent\n",
    "sex_count_df = pd.DataFrame({ \"Sex\": sex_counts.index, \n",
    "                              \"Count\": sex_counts, \n",
    "                              \"Percent\": sex_counts / total_crimes * 100})\n",
    "sex_count_df.head()\n"
   ]
  },
  {
   "cell_type": "markdown",
   "metadata": {},
   "source": [
    "### Use pandas to load DataFrame into database"
   ]
  },
  {
   "cell_type": "code",
   "execution_count": 21,
   "metadata": {},
   "outputs": [
    {
     "data": {
      "text/plain": [
       "Index(['Sex', 'Count', 'Percent'], dtype='object')"
      ]
     },
     "execution_count": 21,
     "metadata": {},
     "output_type": "execute_result"
    }
   ],
   "source": [
    "sex_count_df.columns"
   ]
  },
  {
   "cell_type": "code",
   "execution_count": 22,
   "metadata": {},
   "outputs": [
    {
     "data": {
      "text/html": [
       "<div>\n",
       "<style scoped>\n",
       "    .dataframe tbody tr th:only-of-type {\n",
       "        vertical-align: middle;\n",
       "    }\n",
       "\n",
       "    .dataframe tbody tr th {\n",
       "        vertical-align: top;\n",
       "    }\n",
       "\n",
       "    .dataframe thead th {\n",
       "        text-align: right;\n",
       "    }\n",
       "</style>\n",
       "<table border=\"1\" class=\"dataframe\">\n",
       "  <thead>\n",
       "    <tr style=\"text-align: right;\">\n",
       "      <th></th>\n",
       "      <th>Sex</th>\n",
       "      <th>Count</th>\n",
       "      <th>Percent</th>\n",
       "    </tr>\n",
       "    <tr>\n",
       "      <th>Sex</th>\n",
       "      <th></th>\n",
       "      <th></th>\n",
       "      <th></th>\n",
       "    </tr>\n",
       "  </thead>\n",
       "  <tbody>\n",
       "    <tr>\n",
       "      <th>F</th>\n",
       "      <td>F</td>\n",
       "      <td>5360</td>\n",
       "      <td>29.251255</td>\n",
       "    </tr>\n",
       "    <tr>\n",
       "      <th>M</th>\n",
       "      <td>M</td>\n",
       "      <td>12874</td>\n",
       "      <td>70.257586</td>\n",
       "    </tr>\n",
       "    <tr>\n",
       "      <th>U</th>\n",
       "      <td>U</td>\n",
       "      <td>90</td>\n",
       "      <td>0.491159</td>\n",
       "    </tr>\n",
       "  </tbody>\n",
       "</table>\n",
       "</div>"
      ],
      "text/plain": [
       "    Sex  Count    Percent\n",
       "Sex                      \n",
       "F     F   5360  29.251255\n",
       "M     M  12874  70.257586\n",
       "U     U     90   0.491159"
      ]
     },
     "execution_count": 22,
     "metadata": {},
     "output_type": "execute_result"
    }
   ],
   "source": [
    "# Create MySQL table and write Desc_count DF to this MySQL table\n",
    "sex_count_df.to_sql(name='sex_summary', con=engine, if_exists='replace', index=False)\n",
    "sex_count_df.head()"
   ]
  },
  {
   "cell_type": "markdown",
   "metadata": {},
   "source": [
    "### Write the temp data to confirm it worked"
   ]
  },
  {
   "cell_type": "code",
   "execution_count": 23,
   "metadata": {},
   "outputs": [],
   "source": [
    "temp_sex_json = sex_count_df.head(3).to_json(orient='records')\n",
    "sex_count_df.to_json(orient='records', path_or_buf='sex_summary.json')"
   ]
  },
  {
   "cell_type": "code",
   "execution_count": 24,
   "metadata": {},
   "outputs": [
    {
     "name": "stdout",
     "output_type": "stream",
     "text": [
      "[\n",
      "    {\n",
      "        \"Count\": 5360,\n",
      "        \"Percent\": 29.2512551845,\n",
      "        \"Sex\": \"F\"\n",
      "    },\n",
      "    {\n",
      "        \"Count\": 12874,\n",
      "        \"Percent\": 70.25758568,\n",
      "        \"Sex\": \"M\"\n",
      "    },\n",
      "    {\n",
      "        \"Count\": 90,\n",
      "        \"Percent\": 0.4911591356,\n",
      "        \"Sex\": \"U\"\n",
      "    }\n",
      "]\n"
     ]
    }
   ],
   "source": [
    "parsed = json.loads(temp_sex_json)\n",
    "print(json.dumps(parsed, indent=4, sort_keys=True))\n"
   ]
  },
  {
   "cell_type": "code",
   "execution_count": null,
   "metadata": {},
   "outputs": [],
   "source": []
  },
  {
   "cell_type": "code",
   "execution_count": null,
   "metadata": {},
   "outputs": [],
   "source": []
  },
  {
   "cell_type": "code",
   "execution_count": null,
   "metadata": {},
   "outputs": [],
   "source": []
  },
  {
   "cell_type": "code",
   "execution_count": null,
   "metadata": {},
   "outputs": [],
   "source": []
  },
  {
   "cell_type": "code",
   "execution_count": null,
   "metadata": {},
   "outputs": [],
   "source": []
  },
  {
   "cell_type": "code",
   "execution_count": null,
   "metadata": {},
   "outputs": [],
   "source": []
  }
 ],
 "metadata": {
  "kernelspec": {
   "display_name": "Python 3",
   "language": "python",
   "name": "python3"
  },
  "language_info": {
   "codemirror_mode": {
    "name": "ipython",
    "version": 3
   },
   "file_extension": ".py",
   "mimetype": "text/x-python",
   "name": "python",
   "nbconvert_exporter": "python",
   "pygments_lexer": "ipython3",
   "version": "3.6.7"
  },
  "varInspector": {
   "cols": {
    "lenName": 16,
    "lenType": 16,
    "lenVar": 40
   },
   "kernels_config": {
    "python": {
     "delete_cmd_postfix": "",
     "delete_cmd_prefix": "del ",
     "library": "var_list.py",
     "varRefreshCmd": "print(var_dic_list())"
    },
    "r": {
     "delete_cmd_postfix": ") ",
     "delete_cmd_prefix": "rm(",
     "library": "var_list.r",
     "varRefreshCmd": "cat(var_dic_list()) "
    }
   },
   "types_to_exclude": [
    "module",
    "function",
    "builtin_function_or_method",
    "instance",
    "_Feature"
   ],
   "window_display": false
  }
 },
 "nbformat": 4,
 "nbformat_minor": 2
}
